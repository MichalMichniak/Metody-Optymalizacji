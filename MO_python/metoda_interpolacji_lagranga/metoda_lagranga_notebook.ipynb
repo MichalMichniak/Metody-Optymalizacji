{
 "cells": [
  {
   "cell_type": "code",
   "execution_count": 7,
   "metadata": {},
   "outputs": [
    {
     "name": "stdout",
     "output_type": "stream",
     "text": [
      "1.259965688611419\n"
     ]
    }
   ],
   "source": [
    "import metoda_lagranga\n",
    "\n",
    "f = lambda x: (x**3+1)/(x**2)\n",
    "print(metoda_lagranga.lagrange_method(f,1.0,2.0,0.01,0.0001,1000))"
   ]
  }
 ],
 "metadata": {
  "kernelspec": {
   "display_name": "Python 3.9.13 64-bit",
   "language": "python",
   "name": "python3"
  },
  "language_info": {
   "codemirror_mode": {
    "name": "ipython",
    "version": 3
   },
   "file_extension": ".py",
   "mimetype": "text/x-python",
   "name": "python",
   "nbconvert_exporter": "python",
   "pygments_lexer": "ipython3",
   "version": "3.9.13"
  },
  "orig_nbformat": 4,
  "vscode": {
   "interpreter": {
    "hash": "44f60aa086402613a6cefbfbd09cba7fdaab965cd6fb59a8433a72af4ce50381"
   }
  }
 },
 "nbformat": 4,
 "nbformat_minor": 2
}
